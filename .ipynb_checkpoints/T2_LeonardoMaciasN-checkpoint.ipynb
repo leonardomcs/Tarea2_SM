{
 "cells": [
  {
   "cell_type": "markdown",
   "metadata": {},
   "source": [
    "# ¿Deberías invertir tu tiempo y dinero en el entrenamiento de Python? Absolutamente. Este es el por qué."
   ]
  },
  {
   "cell_type": "markdown",
   "metadata": {},
   "source": [
    "El articulo nos habla de porque [Python][1] deberia de ser nuestro primer lenguaje de programación para aprender y entrar a este nuevo mundo. Desde instalar [Python][1] en nuestra computadora se vuelve algo tan sencillo como otro cualquier programa y hasta algunas computadoras ya lo traen instalado de fabrica.\n",
    "\n",
    "[Python][1] es tan amigable y simple en su sintaxis que cualquiera persona si invierte en una buena educación para apreder a programar en este lenguaje puedo hacer bastantes cosas, desde inteligencia artificial hasta juegos. \n",
    "\n",
    "Tanto Youtube como Amazon utilizan este lenguaje para reconocimiento facial o de voz ya que [Python][1] es de bastante ayuda a la hora de reconocimiento de patrones y AI. Esto hay que agregarle que [Python][1] tiene una grandisima comunidad la cual ha mejorado de manera significativa todos los algoritmos y hoy por hoy hay muchas bibliotecas que nos van a ayudar programar de manera mas limpia eficiente y rapida cualquier cosa que podamos imaginar.\n",
    "\n",
    "[1]:https://www.python.org/"
   ]
  },
  {
   "cell_type": "markdown",
   "metadata": {},
   "source": [
    "# 5 RAZONES POR LAS QUE DEBERÍAS APRENDER PYTHON AHORA\n",
    "\n",
    "En el articulo [5 REASONS YOU SHOULD LEARN PYTHON NOW][1] nos describe las razones mas importantes para utilizar Python como lenguaje de programación. Unas de sus principales razones es su simplicidad y facilidad de sintaxis, nos compara como podemos imprimir el texto \"Hola mundo\" de manera sencilla con un solo renglon mientras que en otros lenguajes es mas extenso este proceso. Por esta misma razon Python es excelente para iniciar en el mundo de la programación ya que este puede ser una ventana para tener conocimientos basicos y así cuando vayamos a otro lenguaje mas complejo no estemos tan perdidos. \n",
    "\n",
    "Pero al ser un lenguaje tan sencillo no siginifica que no sea poderoso, todo lo contrario ya que empresas como Netflix, Google, Spotify, Amazon y otras más utilizan Python para bastantes de sus acciones con ayuda de otros lenguajes. Por esta y muchas mas razones Python es bastante poderoso y facil de aprender.\n",
    "\n",
    "[1]:https://www.pluralsight.com/blog/software-development/why-python"
   ]
  },
  {
   "cell_type": "code",
   "execution_count": null,
   "metadata": {},
   "outputs": [],
   "source": []
  }
 ],
 "metadata": {
  "kernelspec": {
   "display_name": "Python 3",
   "language": "python",
   "name": "python3"
  },
  "language_info": {
   "codemirror_mode": {
    "name": "ipython",
    "version": 3
   },
   "file_extension": ".py",
   "mimetype": "text/x-python",
   "name": "python",
   "nbconvert_exporter": "python",
   "pygments_lexer": "ipython3",
   "version": "3.7.4"
  }
 },
 "nbformat": 4,
 "nbformat_minor": 2
}
