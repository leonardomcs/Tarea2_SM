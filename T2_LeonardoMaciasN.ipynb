{
 "cells": [
  {
   "cell_type": "markdown",
   "metadata": {},
   "source": [
    "# ¿Deberías invertir tu tiempo y dinero en el entrenamiento de Python? Absolutamente. Este es el por qué."
   ]
  },
  {
   "cell_type": "markdown",
   "metadata": {},
   "source": [
    "El articulo nos habla de porque [Python][1] deberia de ser nuestro primer lenguaje de programación para aprender y entrar a este nuevo mundo. Desde instalar [Python][1] en nuestra computadora se vuelve algo tan sencillo como otro cualquier programa y hasta algunas computadoras ya lo traen instalado de fabrica.\n",
    "\n",
    "[Python][1] es tan amigable y simple en su sintaxis que cualquiera persona si invierte en una buena educación para apreder a programar en este lenguaje puedo hacer bastantes cosas, desde inteligencia artificial hasta juegos. \n",
    "\n",
    "Tanto Youtube como Amazon utilizan este lenguaje para reconocimiento facial o de voz ya que [Python][1] es de bastante ayuda a la hora de reconocimiento de patrones y AI. Esto hay que agregarle que [Python][1] tiene una grandisima comunidad la cual ha mejorado de manera significativa todos los algoritmos y hoy por hoy hay muchas bibliotecas que nos van a ayudar programar de manera mas limpia eficiente y rapida cualquier cosa que podamos imaginar.\n",
    "\n",
    "[1]:https://www.python.org/"
   ]
  },
  {
   "cell_type": "code",
   "execution_count": null,
   "metadata": {},
   "outputs": [],
   "source": []
  }
 ],
 "metadata": {
  "kernelspec": {
   "display_name": "Python 3",
   "language": "python",
   "name": "python3"
  },
  "language_info": {
   "codemirror_mode": {
    "name": "ipython",
    "version": 3
   },
   "file_extension": ".py",
   "mimetype": "text/x-python",
   "name": "python",
   "nbconvert_exporter": "python",
   "pygments_lexer": "ipython3",
   "version": "3.7.4"
  }
 },
 "nbformat": 4,
 "nbformat_minor": 2
}
